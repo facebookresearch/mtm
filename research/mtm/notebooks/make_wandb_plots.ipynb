{
 "cells": [
  {
   "cell_type": "code",
   "execution_count": null,
   "id": "de4b07d8",
   "metadata": {},
   "outputs": [],
   "source": [
    "import wandb\n",
    "import pandas as pd \n",
    "import json\n",
    "from research.utils.plot_utils import PlotHandler as ph\n",
    "import matplotlib.pyplot as plt\n",
    "import numpy as np\n",
    "%matplotlib inline"
   ]
  },
  {
   "cell_type": "code",
   "execution_count": null,
   "id": "fbb8e810",
   "metadata": {},
   "outputs": [],
   "source": [
    "\n",
    "api = wandb.Api()\n",
    "\n",
    "# Project is specified by <entity/project-name>\n",
    "runs = api.runs(\"mtm_team/exorl_experiments1\")\n",
    "summary_list = [] \n",
    "config_list = [] \n",
    "name_list = [] \n",
    "for run in runs: \n",
    "    # run.summary are the output key/values like accuracy.\n",
    "    # We call ._json_dict to omit large files \n",
    "    summary_list.append(run.summary._json_dict) \n",
    "\n",
    "    # run.config is the input metrics.\n",
    "    # We remove special values that start with _.\n",
    "    config = {k:v for k,v in run.config.items() if not k.startswith('_')}\n",
    "    config_list.append(config) \n",
    "\n",
    "    # run.name is the name of the run.\n",
    "    name_list.append(run.name)       \n",
    "\n",
    "summary_df = pd.DataFrame.from_records(summary_list) \n",
    "config_df = pd.DataFrame.from_records(config_list) \n",
    "name_df = pd.DataFrame({'name': name_list}) \n",
    "all_df = pd.concat([name_df, config_df,summary_df], axis=1)\n",
    "\n",
    "# all_df.to_csv(\"project.csv\")"
   ]
  },
  {
   "cell_type": "code",
   "execution_count": null,
   "id": "6c0ea1ac",
   "metadata": {},
   "outputs": [],
   "source": [
    "run.history().keys()"
   ]
  },
  {
   "cell_type": "code",
   "execution_count": null,
   "id": "15a0dec6",
   "metadata": {},
   "outputs": [],
   "source": [
    "run.history()[\"_step\"]"
   ]
  },
  {
   "cell_type": "code",
   "execution_count": null,
   "id": "5bcbd4f0",
   "metadata": {},
   "outputs": [],
   "source": [
    "\n",
    "cfg = json.loads(run.json_config)\n",
    "\n",
    "cfg[\"dataset\"][\"value\"]"
   ]
  },
  {
   "cell_type": "code",
   "execution_count": null,
   "id": "521cbafd",
   "metadata": {},
   "outputs": [],
   "source": [
    "def cfg_to_name(cfg):\n",
    "    mask_ids = cfg[\"args\"][\"value\"][\"mask_indices\"]\n",
    "    tokenizers = cfg[\"tokenizers\"][\"value\"][\"states\"][\"_target_\"]\n",
    "    dataset = cfg[\"dataset\"][\"value\"][\"_target_\"].split(\".\")[3]\n",
    "    if \"continuous\" in tokenizers:\n",
    "        t = \"continuous\"\n",
    "    elif \"uniform\" in tokenizers:\n",
    "        t = \"discrete\"\n",
    "    else:\n",
    "        t = tokenizers\n",
    "    _name = f\"maskids-{mask_ids} | {t} | {dataset}\"\n",
    "    return _name"
   ]
  },
  {
   "cell_type": "code",
   "execution_count": null,
   "id": "32622408",
   "metadata": {},
   "outputs": [],
   "source": [
    "cfg_to_name(cfg)"
   ]
  },
  {
   "cell_type": "code",
   "execution_count": null,
   "id": "98444435",
   "metadata": {},
   "outputs": [],
   "source": []
  },
  {
   "cell_type": "code",
   "execution_count": null,
   "id": "37a573e7",
   "metadata": {},
   "outputs": [],
   "source": []
  },
  {
   "cell_type": "code",
   "execution_count": null,
   "id": "ae6ecbda",
   "metadata": {},
   "outputs": [],
   "source": [
    "require = [\"[0]\", \"[0, 1, 2, 3]\", \"[3]\"]\n",
    "\n",
    "k  = \"f_dynamics_eval/mse_sum\"\n",
    "with ph.plot_context() as (fig, ax):\n",
    "    for run in runs:\n",
    "        h = run.history(keys=[k])\n",
    "        cfg = json.loads(run.json_config)\n",
    "        name = cfg_to_name(cfg)\n",
    "        should = [f in name for f in require]\n",
    "        use = any(should)\n",
    "        if k in h.keys() and use:\n",
    "            # h = h[h[k].notnull()]\n",
    "            cfg = json.loads(run.json_config)\n",
    "#             x = np.nan_to_num(h[\"_step\"].to_numpy())\n",
    "#             y = np.nan_to_num(h[k].to_numpy())\n",
    "            x = h[\"_step\"].to_numpy()\n",
    "            y = h[k].to_numpy()\n",
    "            ax.plot(x, y, label=name)\n",
    "    ax.legend(bbox_to_anchor=(1.05, 1.0), loc='upper left')\n",
    "    ax.set_title(k)\n",
    "    ax.set_ylim(0, 30)\n",
    "    plt.show(fig)    "
   ]
  },
  {
   "cell_type": "code",
   "execution_count": null,
   "id": "4513b2a9",
   "metadata": {},
   "outputs": [],
   "source": [
    "h = run.history()\n",
    "h[k]"
   ]
  },
  {
   "cell_type": "code",
   "execution_count": null,
   "id": "46d5fe97",
   "metadata": {},
   "outputs": [],
   "source": [
    "for r in run.scan_history():\n",
    "    print(r[\"_step\"])"
   ]
  },
  {
   "cell_type": "code",
   "execution_count": null,
   "id": "5f5b8b1c",
   "metadata": {},
   "outputs": [],
   "source": [
    "require = [\"[0]\", \"[0, 1, 2, 3]\", \"[1]\"]\n",
    "\n",
    "k  = \"goal_eval/mse_sum\"\n",
    "with ph.plot_context() as (fig, ax):\n",
    "    for run in runs:\n",
    "        h = run.history(keys=[k])\n",
    "        cfg = json.loads(run.json_config)\n",
    "        name = cfg_to_name(cfg)\n",
    "        should = [f in name for f in require]\n",
    "        use = any(should)\n",
    "        if k in h.keys() and use:\n",
    "            # h = h[h[k].notnull()]\n",
    "            cfg = json.loads(run.json_config)\n",
    "#             x = np.nan_to_num(h[\"_step\"].to_numpy())\n",
    "#             y = np.nan_to_num(h[k].to_numpy())\n",
    "            x = h[\"_step\"].to_numpy()\n",
    "            y = h[k].to_numpy()\n",
    "            ax.plot(x, y, label=name)\n",
    "    ax.legend(bbox_to_anchor=(1.05, 1.0), loc='upper left')\n",
    "    ax.set_ylim(0, 30)\n",
    "    ax.set_title(k)\n",
    "    plt.show(fig)    "
   ]
  },
  {
   "cell_type": "code",
   "execution_count": null,
   "id": "f0328881",
   "metadata": {},
   "outputs": [],
   "source": []
  }
 ],
 "metadata": {
  "kernelspec": {
   "display_name": "Python 3 (ipykernel)",
   "language": "python",
   "name": "python3"
  },
  "language_info": {
   "codemirror_mode": {
    "name": "ipython",
    "version": 3
   },
   "file_extension": ".py",
   "mimetype": "text/x-python",
   "name": "python",
   "nbconvert_exporter": "python",
   "pygments_lexer": "ipython3",
   "version": "3.10.4"
  }
 },
 "nbformat": 4,
 "nbformat_minor": 5
}
