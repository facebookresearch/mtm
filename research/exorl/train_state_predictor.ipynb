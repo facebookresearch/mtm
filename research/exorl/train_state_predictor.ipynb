{
 "cells": [
  {
   "cell_type": "code",
   "execution_count": null,
   "id": "210b2504",
   "metadata": {},
   "outputs": [],
   "source": [
    "import warnings \n",
    "\n",
    "warnings.filterwarnings('ignore', category=DeprecationWarning)\n",
    "\n",
    "import os\n",
    "\n",
    "os.environ['MKL_SERVICE_FORCE_INTEL'] = '1'\n",
    "os.environ['MUJOCO_GL'] = 'egl'\n",
    "\n",
    "from pathlib import Path\n",
    "\n",
    "import hydra\n",
    "import numpy as np\n",
    "import torch\n",
    "from dm_env import specs\n",
    "\n",
    "import dmc\n",
    "import utils\n",
    "from logger import Logger\n",
    "from replay_buffer import make_replay_loader\n",
    "from train_offline import get_domain\n",
    "import torch.nn as nn\n",
    "import matplotlib.pyplot as plt\n",
    "import torch.optim as optim\n",
    "from tqdm.notebook import trange"
   ]
  },
  {
   "cell_type": "code",
   "execution_count": null,
   "id": "ethical-fairy",
   "metadata": {},
   "outputs": [],
   "source": [
    "class Encoder(nn.Module):\n",
    "    def __init__(self, obs_shape, output_shape):\n",
    "        super().__init__()\n",
    "\n",
    "        assert len(obs_shape) == 3\n",
    "        self.repr_dim = 32 * 12 * 12\n",
    "\n",
    "        self.convnet = nn.Sequential(nn.Conv2d(obs_shape[0], 32, 3, stride=2),\n",
    "                                     nn.ReLU(), nn.Conv2d(32, 32, 3, stride=2),\n",
    "                                     nn.ReLU(), nn.Conv2d(32, 32, 3, stride=1),\n",
    "                                     nn.ReLU(), nn.Conv2d(32, 32, 3, stride=1),\n",
    "                                     nn.ReLU(), nn.Conv2d(32, 32, 3, stride=1),\n",
    "                                     nn.ReLU(), nn.Conv2d(32, 32, 3, stride=1),\n",
    "                                     nn.ReLU())\n",
    "        self.fc1 = nn.Linear(self.repr_dim, output_shape)\n",
    "        self.fc2 = nn.Linear(output_shape, output_shape)\n",
    "        self.relu = nn.ReLU()\n",
    "        self.apply(utils.weight_init)\n",
    "\n",
    "    def forward(self, obs):\n",
    "        obs = obs / 255.0 - 0.5\n",
    "        h = self.convnet(obs)\n",
    "        h = h.reshape(h.shape[0], -1)\n",
    "        return self.fc2(self.relu(self.fc1(h)))"
   ]
  },
  {
   "cell_type": "code",
   "execution_count": null,
   "id": "e8025403",
   "metadata": {},
   "outputs": [],
   "source": [
    "seed = 0\n",
    "lr = 1e-3\n",
    "batch_size = 128\n",
    "device = torch.device(\"cuda\")\n",
    "task = \"walker_walk\"\n",
    "replay_buffer_dir = \"datasets\"\n",
    "replay_buffer_size = 1000000\n",
    "expl_agent = \"proto\"\n",
    "replay_buffer_num_workers = 0\n",
    "discount = 0.99"
   ]
  },
  {
   "cell_type": "code",
   "execution_count": null,
   "id": "a222d952",
   "metadata": {},
   "outputs": [],
   "source": [
    "work_dir = Path.cwd()\n",
    "utils.set_seed_everywhere(seed)\n",
    "device = torch.device(device)\n",
    "\n",
    "# create envs\n",
    "env = dmc.make(task, seed=seed)\n",
    "\n",
    "\n",
    "# create replay buffer\n",
    "data_specs = (env.observation_spec(), env.action_spec(), env.reward_spec(),\n",
    "              env.discount_spec())\n",
    "\n",
    "# create data storage\n",
    "domain = get_domain(task)\n",
    "datasets_dir = work_dir / replay_buffer_dir\n",
    "replay_dir = datasets_dir.resolve() / domain / expl_agent / 'buffer_img'\n",
    "print(f'replay dir: {replay_dir}')\n",
    "\n",
    "replay_loader = make_replay_loader(\n",
    "    env,\n",
    "    replay_dir,\n",
    "    replay_buffer_size,\n",
    "    batch_size,\n",
    "    replay_buffer_num_workers,\n",
    "    discount,\n",
    "    relabel=False,\n",
    ")\n",
    "replay_iter = iter(replay_loader)"
   ]
  },
  {
   "cell_type": "code",
   "execution_count": null,
   "id": "roman-leonard",
   "metadata": {},
   "outputs": [],
   "source": [
    "batch = next(replay_iter)\n",
    "(\n",
    "    obs,\n",
    "    action,\n",
    "    reward,\n",
    "    discount,\n",
    "    next_obs, \n",
    "    obs_image, \n",
    "    next_obs_image, \n",
    "    joint_state, \n",
    "    next_joint_state\n",
    ") = batch"
   ]
  },
  {
   "cell_type": "code",
   "execution_count": null,
   "id": "worse-nicholas",
   "metadata": {},
   "outputs": [],
   "source": [
    "plt.imshow(obs_image[0])\n",
    "plt.show()\n",
    "plt.imshow(obs_image[1])\n",
    "plt.show()"
   ]
  },
  {
   "cell_type": "code",
   "execution_count": null,
   "id": "attended-spain",
   "metadata": {},
   "outputs": [],
   "source": [
    "model = Encoder((3, 84, 84), joint_state.shape[-1])\n",
    "optimizer = optim.Adam(model.parameters(), lr=lr)\n",
    "model.to(device)"
   ]
  },
  {
   "cell_type": "code",
   "execution_count": null,
   "id": "portuguese-joyce",
   "metadata": {},
   "outputs": [],
   "source": [
    "losses = []\n",
    "for i in trange(5000):\n",
    "    # try to evaluate\n",
    "    batch = next(replay_iter)\n",
    "    (\n",
    "        obs,\n",
    "        action,\n",
    "        reward,\n",
    "        discount,\n",
    "        next_obs, \n",
    "        obs_image, \n",
    "        next_obs_image, \n",
    "        joint_state, \n",
    "        next_joint_state\n",
    "    ) = batch\n",
    "    \n",
    "    joints_pred = model(obs_image.permute(0, 3, 1, 2).to(device))\n",
    "    loss = torch.mean((joint_state.to(device) - joints_pred) ** 2)\n",
    "    optimizer.zero_grad()\n",
    "    loss.backward()\n",
    "    losses.append(loss.item())\n",
    "    optimizer.step()"
   ]
  },
  {
   "cell_type": "code",
   "execution_count": null,
   "id": "great-aggregate",
   "metadata": {},
   "outputs": [],
   "source": [
    "plt.plot(losses)"
   ]
  },
  {
   "cell_type": "code",
   "execution_count": null,
   "id": "dynamic-anderson",
   "metadata": {},
   "outputs": [],
   "source": []
  }
 ],
 "metadata": {
  "kernelspec": {
   "display_name": "Python 3 (ipykernel)",
   "language": "python",
   "name": "python3"
  },
  "language_info": {
   "codemirror_mode": {
    "name": "ipython",
    "version": 3
   },
   "file_extension": ".py",
   "mimetype": "text/x-python",
   "name": "python",
   "nbconvert_exporter": "python",
   "pygments_lexer": "ipython3",
   "version": "3.8.5"
  }
 },
 "nbformat": 4,
 "nbformat_minor": 5
}
