{
 "cells": [
  {
   "cell_type": "code",
   "execution_count": null,
   "id": "e0bace1a",
   "metadata": {},
   "outputs": [],
   "source": [
    "import torch\n",
    "import numpy as np"
   ]
  },
  {
   "cell_type": "code",
   "execution_count": null,
   "id": "04574b57",
   "metadata": {},
   "outputs": [],
   "source": [
    "_num_bins=torch.rand((1, 3, 2))\n",
    "_num_bins = 2"
   ]
  },
  {
   "cell_type": "code",
   "execution_count": null,
   "id": "a0d7690b",
   "metadata": {},
   "outputs": [],
   "source": [
    "trajectory = torch.tensor(\n",
    "    [[0.1, 0.2],\n",
    "    [0.3, 0.49],\n",
    "    [0.51, 0.8],]\n",
    ")\n",
    "trajectory = trajectory.unsqueeze(0)\n",
    "trajectory"
   ]
  },
  {
   "cell_type": "code",
   "execution_count": null,
   "id": "436c73f2",
   "metadata": {},
   "outputs": [],
   "source": [
    "# trajectory = torch.tensor(\n",
    "#     [[-0.1, 0.2],\n",
    "#     [0.3, 0.49],\n",
    "#     [0.51, 1.1],]\n",
    "# )\n",
    "# trajectory = trajectory.unsqueeze(0)\n",
    "# trajectory"
   ]
  },
  {
   "cell_type": "code",
   "execution_count": null,
   "id": "e8d99f62",
   "metadata": {},
   "outputs": [],
   "source": [
    "tokenized_trajectory = torch.floor(trajectory * _num_bins)\n",
    "tokenized_trajectory = torch.clamp(tokenized_trajectory, 0, _num_bins - 1)\n",
    "tokenized_trajectory"
   ]
  },
  {
   "cell_type": "code",
   "execution_count": null,
   "id": "ab8e8971",
   "metadata": {},
   "outputs": [],
   "source": [
    "\n",
    "one_hot_trajectory = torch.nn.functional.one_hot(\n",
    "    tokenized_trajectory.long(), _num_bins\n",
    ")"
   ]
  },
  {
   "cell_type": "code",
   "execution_count": null,
   "id": "aaf37b1d",
   "metadata": {},
   "outputs": [],
   "source": []
  },
  {
   "cell_type": "code",
   "execution_count": null,
   "id": "b56bfe4b",
   "metadata": {},
   "outputs": [],
   "source": [
    "decoded_trajectory = torch.argmax(one_hot_trajectory, dim=3).float()\n",
    "decoded_trajectory = decoded_trajectory / _num_bins\n",
    "\n",
    "decoded_trajectory = (\n",
    "    decoded_trajectory + 1 / _num_bins / 2\n",
    ")  # add half bin width to get center of bin\n",
    "decoded_trajectory"
   ]
  },
  {
   "cell_type": "code",
   "execution_count": null,
   "id": "86b05ad0",
   "metadata": {},
   "outputs": [],
   "source": [
    "error = np.abs(trajectory.numpy() - decoded_trajectory.numpy()).max(0)[0]\n",
    "error"
   ]
  },
  {
   "cell_type": "code",
   "execution_count": null,
   "id": "c621424b",
   "metadata": {},
   "outputs": [],
   "source": [
    "max_diffs = torch.tensor(1 / _num_bins / 2)\n"
   ]
  },
  {
   "cell_type": "code",
   "execution_count": null,
   "id": "49854bd1",
   "metadata": {},
   "outputs": [],
   "source": [
    "max_diffs"
   ]
  },
  {
   "cell_type": "code",
   "execution_count": null,
   "id": "04865271",
   "metadata": {},
   "outputs": [],
   "source": []
  }
 ],
 "metadata": {
  "kernelspec": {
   "display_name": "Python 3 (ipykernel)",
   "language": "python",
   "name": "python3"
  },
  "language_info": {
   "codemirror_mode": {
    "name": "ipython",
    "version": 3
   },
   "file_extension": ".py",
   "mimetype": "text/x-python",
   "name": "python",
   "nbconvert_exporter": "python",
   "pygments_lexer": "ipython3",
   "version": "3.10.4"
  }
 },
 "nbformat": 4,
 "nbformat_minor": 5
}
