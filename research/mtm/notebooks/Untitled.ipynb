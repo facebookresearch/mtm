{
 "cells": [
  {
   "cell_type": "code",
   "execution_count": null,
   "id": "2488268b",
   "metadata": {},
   "outputs": [],
   "source": [
    "\"\"\"\n",
    "Dataset used for training a policy. Formed from a collection of\n",
    "HDF5 files and wrapped into a PyTorch Dataset.\n",
    "\"\"\"\n",
    "import pickle\n",
    "import random\n",
    "from collections import defaultdict\n",
    "from pathlib import Path\n",
    "from typing import Any, Callable, Dict, Optional\n",
    "\n",
    "import numpy as np\n",
    "import torch\n",
    "import tqdm\n",
    "import wandb\n",
    "from gym import spaces\n",
    "from torch.utils.data import Dataset, IterableDataset\n",
    "\n",
    "import research.mtm.sequence_dataset.dmc as dmc\n",
    "from research.exorl.replay_buffer import episode_len, load_episode, relable_episode\n",
    "from research.mtm.datasets.base import DatasetProtocol, DataStatistics\n",
    "from research.mtm.tokenizers.base import TokenizerManager\n",
    "from research.utils.plot_utils import PlotHandler as ph\n",
    "import os"
   ]
  },
  {
   "cell_type": "code",
   "execution_count": null,
   "id": "1c38d936",
   "metadata": {},
   "outputs": [],
   "source": [
    "\n",
    "path = \"/checkpoint/yixinlin/data/objectnav-hm3d-77k-00706-YHmAkqgwe2p-v0\"\n"
   ]
  },
  {
   "cell_type": "code",
   "execution_count": null,
   "id": "2ef5288a",
   "metadata": {},
   "outputs": [],
   "source": [
    "# find checkpoints in the directory\n",
    "steps = []\n",
    "names = []\n",
    "paths_ = os.listdir(path)\n",
    "print(paths_)\n",
    "for name in [os.path.join(path, n) for n in paths_ if \"npz\" in n]:\n",
    "    print(name)\n",
    "#     step = os.path.basename(name).split(\"_\")[-1].split(\".\")[0]\n",
    "#     steps.append(step)\n",
    "#     names.append(name)\n",
    "#     print(name)\n",
    "\n",
    "# ckpt_path = names[np.argmax(steps)]"
   ]
  },
  {
   "cell_type": "code",
   "execution_count": null,
   "id": "db5969db",
   "metadata": {},
   "outputs": [],
   "source": [
    "data = np.load(name)"
   ]
  },
  {
   "cell_type": "code",
   "execution_count": null,
   "id": "798e9396",
   "metadata": {},
   "outputs": [],
   "source": [
    "list(data.keys())"
   ]
  },
  {
   "cell_type": "code",
   "execution_count": null,
   "id": "7a12adf8",
   "metadata": {},
   "outputs": [],
   "source": [
    "data[\"positions\"]"
   ]
  },
  {
   "cell_type": "code",
   "execution_count": null,
   "id": "c75bb38f",
   "metadata": {},
   "outputs": [],
   "source": []
  }
 ],
 "metadata": {
  "kernelspec": {
   "display_name": "Python 3 (ipykernel)",
   "language": "python",
   "name": "python3"
  },
  "language_info": {
   "codemirror_mode": {
    "name": "ipython",
    "version": 3
   },
   "file_extension": ".py",
   "mimetype": "text/x-python",
   "name": "python",
   "nbconvert_exporter": "python",
   "pygments_lexer": "ipython3",
   "version": "3.10.4"
  }
 },
 "nbformat": 4,
 "nbformat_minor": 5
}
