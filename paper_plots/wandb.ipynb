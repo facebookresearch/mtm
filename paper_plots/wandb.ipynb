{
 "cells": [
  {
   "cell_type": "code",
   "execution_count": null,
   "metadata": {},
   "outputs": [],
   "source": [
    "import wandb\n",
    "import pandas as pd\n",
    "import json\n",
    "from dataclasses import dataclass\n",
    "import matplotlib.pyplot as plt\n",
    "import seaborn as sns \n",
    "import numpy as np\n",
    "from pathlib import Path\n",
    "from collections import defaultdict\n",
    "\n",
    "import scienceplots\n",
    "# plt.style.use(['science', 'ieee'])"
   ]
  },
  {
   "cell_type": "code",
   "execution_count": null,
   "metadata": {},
   "outputs": [],
   "source": []
  },
  {
   "cell_type": "code",
   "execution_count": null,
   "metadata": {},
   "outputs": [],
   "source": [
    "api = wandb.Api(timeout=19)\n",
    "entity, project = \"mtm_team\", \"rep_exorl_experiments\"\n",
    "\n",
    "runs = api.runs(entity + \"/\" + project)\n",
    "print(f\"Found {len(runs)} runs in {entity}/{project}\")"
   ]
  },
  {
   "cell_type": "code",
   "execution_count": null,
   "metadata": {},
   "outputs": [],
   "source": [
    "r = runs[30]\n",
    "hist = r.history()\n",
    "hist.keys()"
   ]
  },
  {
   "cell_type": "code",
   "execution_count": null,
   "metadata": {},
   "outputs": [],
   "source": [
    "hist[\"eval/episode_reward\"]"
   ]
  },
  {
   "cell_type": "code",
   "execution_count": null,
   "metadata": {},
   "outputs": [],
   "source": []
  },
  {
   "cell_type": "code",
   "execution_count": null,
   "metadata": {},
   "outputs": [],
   "source": [
    "# Filter runs\n",
    "# allowed_notes = [\"rss sweep ablation (control_timestep)\"]\n",
    "\n",
    "# pig_runs = []\n",
    "# for run in runs:\n",
    "#     if run.config[\"notes\"] not in allowed_notes or run.state not in [\"finished\", \"running\"]:\n",
    "#         continue\n",
    "#     pig_runs.append(run)\n",
    "# print(f\"Found {len(pig_runs)} runs related to this ablation.\")"
   ]
  },
  {
   "cell_type": "code",
   "execution_count": null,
   "metadata": {},
   "outputs": [],
   "source": [
    "# Group runs with the same control_timestep together.\n",
    "\n",
    "\n",
    "def g(r):\n",
    "    return r.config[\"task\"]\n",
    "\n",
    "task_map = defaultdict(list)\n",
    "for run in runs:\n",
    "    task_map[g(run)].append(run)"
   ]
  },
  {
   "cell_type": "code",
   "execution_count": null,
   "metadata": {},
   "outputs": [],
   "source": [
    "# Grab the eval sub-runs for each seed.\n",
    "\n",
    "def g(r):\n",
    "    if r.config[\"agent\"][\"name\"] == \"td3\":\n",
    "        return \"td3\"\n",
    "    else:\n",
    "        if r.config[\"agent\"][\"end_to_end\"]:\n",
    "            return \"td3_mtm_e2e\"\n",
    "        else:\n",
    "            return  \"td3_mtm\"\n",
    "        \n",
    "\n",
    "plot_map = defaultdict(lambda: defaultdict(list))\n",
    "for k, runs in task_map.items():\n",
    "    for run in runs:\n",
    "        plot_map[k][g(run)].append(run.history(keys=[\"eval/episode_reward\"]))\n",
    "        print(run.name)"
   ]
  },
  {
   "cell_type": "code",
   "execution_count": null,
   "metadata": {},
   "outputs": [],
   "source": [
    "plot_map[\"walker_run\"][\"td3\"]"
   ]
  },
  {
   "cell_type": "code",
   "execution_count": null,
   "metadata": {},
   "outputs": [],
   "source": [
    "# time_series = {}\n",
    "# for env_name, runs in plot_map.items():\n",
    "#     time_series[env_name] = []\n",
    "#     for run in runs:\n",
    "#         time_series[env_name].append(run.history()[\"eval/episode_reward\"])"
   ]
  },
  {
   "cell_type": "code",
   "execution_count": null,
   "metadata": {},
   "outputs": [],
   "source": [
    "np.array(s).shape"
   ]
  },
  {
   "cell_type": "code",
   "execution_count": null,
   "metadata": {},
   "outputs": [],
   "source": [
    "for env in plot_map.keys():\n",
    "    # Plot the time series, with the mean and standard deviation over the 1M steps.\n",
    "    fig, ax = plt.subplots(1, 1, figsize=(6, 4), constrained_layout=True)\n",
    "\n",
    "    \n",
    "    for ctrl_timestep, series in plot_map[env].items():\n",
    "        rew_per_step = defaultdict(list)\n",
    "        for s in series:\n",
    "            for r in np.array(s):\n",
    "                rew_per_step[r[0]].append(r[1])\n",
    "        \n",
    "        xs = []\n",
    "        ys = []\n",
    "        stds = []\n",
    "        sorted_steps = list(rew_per_step.keys())\n",
    "        sorted_steps.sort()\n",
    "        for step in sorted_steps:\n",
    "            xs.append(step)\n",
    "            ys.append(np.mean(rew_per_step[step]))\n",
    "            stds.append(np.std(rew_per_step[step]))\n",
    "        \n",
    "        xs = np.array(xs)\n",
    "        ys = np.array(ys)\n",
    "        stds = np.array(stds)\n",
    "        \n",
    "        # Make x-axis steps in units of 1M.\n",
    "        ax.plot(xs, ys, label=f\"ctrl_timestep={ctrl_timestep}\", linewidth=0.5)\n",
    "\n",
    "        ax.fill_between(xs, ys - stds, ys + stds, alpha=0.5)\n",
    "\n",
    "    ax.legend()\n",
    "    ax.set_xlabel(\"Timestep\")\n",
    "    ax.set_ylabel(\"F1 score\")\n",
    "\n",
    "    # Add vertical light grid with major ticks every 1M steps.\n",
    "    ax.grid(which=\"major\", axis=\"x\", color=\"lightgray\", linestyle=\"--\")\n",
    "    # Add horizontal light grid with major ticks every 0.2.\n",
    "    ax.grid(which=\"major\", axis=\"y\", color=\"lightgray\", linestyle=\"--\")\n",
    "    plt.show()"
   ]
  },
  {
   "cell_type": "code",
   "execution_count": null,
   "metadata": {},
   "outputs": [],
   "source": [
    "xs = np.array(xs)\n",
    "ys = np.array(ys)\n",
    "stds = np.array(stds)"
   ]
  },
  {
   "cell_type": "code",
   "execution_count": null,
   "metadata": {},
   "outputs": [],
   "source": [
    "xs"
   ]
  },
  {
   "cell_type": "code",
   "execution_count": null,
   "metadata": {},
   "outputs": [],
   "source": [
    "ys"
   ]
  },
  {
   "cell_type": "code",
   "execution_count": null,
   "metadata": {},
   "outputs": [],
   "source": []
  }
 ],
 "metadata": {
  "kernelspec": {
   "display_name": "Python 3 (ipykernel)",
   "language": "python",
   "name": "python3"
  },
  "language_info": {
   "codemirror_mode": {
    "name": "ipython",
    "version": 3
   },
   "file_extension": ".py",
   "mimetype": "text/x-python",
   "name": "python",
   "nbconvert_exporter": "python",
   "pygments_lexer": "ipython3",
   "version": "3.10.8"
  },
  "vscode": {
   "interpreter": {
    "hash": "ba81bf60e7c50333ef90785909691286c8d07869f4e69de48f619d72713dd1a2"
   }
  }
 },
 "nbformat": 4,
 "nbformat_minor": 2
}
